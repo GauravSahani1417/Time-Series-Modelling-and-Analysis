{
  "nbformat": 4,
  "nbformat_minor": 0,
  "metadata": {
    "colab": {
      "name": "Auto-Regressive Time Series Model.ipynb",
      "provenance": [],
      "mount_file_id": "1Ww0UmZkJB3ucyNbkwZ6DxXRWaQ-Qki8Z",
      "authorship_tag": "ABX9TyOssQGLdv4jDQuvMXc+1Kdr",
      "include_colab_link": true
    },
    "kernelspec": {
      "name": "python3",
      "display_name": "Python 3"
    }
  },
  "cells": [
    {
      "cell_type": "markdown",
      "metadata": {
        "id": "view-in-github",
        "colab_type": "text"
      },
      "source": [
        "<a href=\"https://colab.research.google.com/github/GauravSahani1417/Time-Series-Modelling-and-Analysis/blob/main/Auto_Regressive_Time_Series_Model.ipynb\" target=\"_parent\"><img src=\"https://colab.research.google.com/assets/colab-badge.svg\" alt=\"Open In Colab\"/></a>"
      ]
    },
    {
      "cell_type": "code",
      "metadata": {
        "id": "RunoxjObc7uw",
        "colab": {
          "base_uri": "https://localhost:8080/"
        },
        "outputId": "9caa0200-a179-42d9-9eb4-7782e321e5d0"
      },
      "source": [
        "from google.colab import drive\n",
        "drive.mount('/content/drive')"
      ],
      "execution_count": 1,
      "outputs": [
        {
          "output_type": "stream",
          "text": [
            "Mounted at /content/drive\n"
          ],
          "name": "stdout"
        }
      ]
    },
    {
      "cell_type": "code",
      "metadata": {
        "colab": {
          "base_uri": "https://localhost:8080/"
        },
        "id": "Qv1XO3tleQWU",
        "outputId": "b7313771-f8aa-407d-dee1-ccfe1ba18a00"
      },
      "source": [
        "#Importing the required packages!\n",
        "import pandas as pd\n",
        "import numpy as np\n",
        "import matplotlib.pyplot as plt\n",
        "import statsmodels.api as sm\n",
        "from statsmodels.tsa.stattools import adfuller\n",
        "from statsmodels.graphics.tsaplots import plot_pacf\n",
        "from sklearn.linear_model import LinearRegression\n",
        "from sklearn.metrics import mean_squared_error\n",
        "from statsmodels.tsa.arima_model import ARIMA"
      ],
      "execution_count": 1,
      "outputs": [
        {
          "output_type": "stream",
          "text": [
            "/usr/local/lib/python3.6/dist-packages/statsmodels/tools/_testing.py:19: FutureWarning: pandas.util.testing is deprecated. Use the functions in the public API at pandas.testing instead.\n",
            "  import pandas.util.testing as tm\n"
          ],
          "name": "stderr"
        }
      ]
    },
    {
      "cell_type": "code",
      "metadata": {
        "id": "zz_guJ2XebUg"
      },
      "source": [
        "%matplotlib inline"
      ],
      "execution_count": 2,
      "outputs": []
    },
    {
      "cell_type": "code",
      "metadata": {
        "id": "to0dNaGEehIo"
      },
      "source": [
        "file_path = \"/content/drive/MyDrive/ts_data.xlsx\""
      ],
      "execution_count": 3,
      "outputs": []
    },
    {
      "cell_type": "code",
      "metadata": {
        "colab": {
          "base_uri": "https://localhost:8080/",
          "height": 204
        },
        "id": "gXovNvuEeltx",
        "outputId": "5a467026-08aa-42d2-f881-ff6d2295fb2c"
      },
      "source": [
        "df = pd.read_excel(file_path)\n",
        "df.head()"
      ],
      "execution_count": 4,
      "outputs": [
        {
          "output_type": "execute_result",
          "data": {
            "text/html": [
              "<div>\n",
              "<style scoped>\n",
              "    .dataframe tbody tr th:only-of-type {\n",
              "        vertical-align: middle;\n",
              "    }\n",
              "\n",
              "    .dataframe tbody tr th {\n",
              "        vertical-align: top;\n",
              "    }\n",
              "\n",
              "    .dataframe thead th {\n",
              "        text-align: right;\n",
              "    }\n",
              "</style>\n",
              "<table border=\"1\" class=\"dataframe\">\n",
              "  <thead>\n",
              "    <tr style=\"text-align: right;\">\n",
              "      <th></th>\n",
              "      <th>Time</th>\n",
              "      <th>Value</th>\n",
              "    </tr>\n",
              "  </thead>\n",
              "  <tbody>\n",
              "    <tr>\n",
              "      <th>0</th>\n",
              "      <td>1</td>\n",
              "      <td>0.000000</td>\n",
              "    </tr>\n",
              "    <tr>\n",
              "      <th>1</th>\n",
              "      <td>2</td>\n",
              "      <td>-0.090263</td>\n",
              "    </tr>\n",
              "    <tr>\n",
              "      <th>2</th>\n",
              "      <td>3</td>\n",
              "      <td>0.749995</td>\n",
              "    </tr>\n",
              "    <tr>\n",
              "      <th>3</th>\n",
              "      <td>4</td>\n",
              "      <td>1.247887</td>\n",
              "    </tr>\n",
              "    <tr>\n",
              "      <th>4</th>\n",
              "      <td>5</td>\n",
              "      <td>0.131282</td>\n",
              "    </tr>\n",
              "  </tbody>\n",
              "</table>\n",
              "</div>"
            ],
            "text/plain": [
              "   Time     Value\n",
              "0     1  0.000000\n",
              "1     2 -0.090263\n",
              "2     3  0.749995\n",
              "3     4  1.247887\n",
              "4     5  0.131282"
            ]
          },
          "metadata": {
            "tags": []
          },
          "execution_count": 4
        }
      ]
    },
    {
      "cell_type": "code",
      "metadata": {
        "colab": {
          "base_uri": "https://localhost:8080/"
        },
        "id": "PLv7YAuHeqLx",
        "outputId": "1cff6ba3-ab49-456b-c8a2-4c5018c5a588"
      },
      "source": [
        "df.shape"
      ],
      "execution_count": 5,
      "outputs": [
        {
          "output_type": "execute_result",
          "data": {
            "text/plain": [
              "(10000, 2)"
            ]
          },
          "metadata": {
            "tags": []
          },
          "execution_count": 5
        }
      ]
    },
    {
      "cell_type": "code",
      "metadata": {
        "colab": {
          "base_uri": "https://localhost:8080/",
          "height": 282
        },
        "id": "p0WSca9OesF1",
        "outputId": "bb1137c6-b69e-4bd7-e5cf-f99be6702bf8"
      },
      "source": [
        "plt.plot(df[\"Value\"])"
      ],
      "execution_count": 6,
      "outputs": [
        {
          "output_type": "execute_result",
          "data": {
            "text/plain": [
              "[<matplotlib.lines.Line2D at 0x7fd0f308fe80>]"
            ]
          },
          "metadata": {
            "tags": []
          },
          "execution_count": 6
        },
        {
          "output_type": "display_data",
          "data": {
            "image/png": "[encoded data removed]",
            "text/plain": [
              "<Figure size 432x288 with 1 Axes>"
            ]
          },
          "metadata": {
            "tags": [],
            "needs_background": "light"
          }
        }
      ]
    },
    {
      "cell_type": "code",
      "metadata": {
        "id": "PvVnFdiTe0NT"
      },
      "source": [
        "#By visualizing, we can see the graph is Stationary, as,\n",
        "#1. Mean is constant\n",
        "#2. Variance is constant\n",
        "#3. There no seasonality as such\n",
        "\n",
        "# But We need to verify this using Dicky-fuller method!"
      ],
      "execution_count": 7,
      "outputs": []
    },
    {
      "cell_type": "code",
      "metadata": {
        "colab": {
          "base_uri": "https://localhost:8080/"
        },
        "id": "iHvzltzCgTuz",
        "outputId": "812ef871-301e-41d2-d96f-acfe3f430132"
      },
      "source": [
        "#This is an syntax for Dicky-Fuller algrithm!\n",
        "X = df[\"Value\"].values\n",
        "result = adfuller(X)\n",
        "\n",
        "print('ADF Statistic: %f' % result[0])\n",
        "print('p-value: %f' % result[1])\n",
        "print('Critical Values:')\n",
        "for key, value in result[4].items():\n",
        "    print('\\t%s: %.3f' % (key, value))\n",
        "\n",
        "if result[0] < result[4][\"5%\"]:\n",
        "    print (\"Reject Ho - Time Series is Stationary\")\n",
        "else:\n",
        "    print (\"Failed to Reject Ho - Time Series is Non-Stationary\")"
      ],
      "execution_count": 8,
      "outputs": [
        {
          "output_type": "stream",
          "text": [
            "ADF Statistic: -22.184930\n",
            "p-value: 0.000000\n",
            "Critical Values:\n",
            "\t1%: -3.431\n",
            "\t5%: -2.862\n",
            "\t10%: -2.567\n",
            "Reject Ho - Time Series is Stationary\n"
          ],
          "name": "stdout"
        }
      ]
    },
    {
      "cell_type": "code",
      "metadata": {
        "id": "j7QwspE8gf9N"
      },
      "source": [
        "#We can see the P-Value is 0.00, ie. You rejected null hypothesis and accepted the alternate hypothesis!\n",
        "#Now since the time-series is stationary, we can go for forecasting!"
      ],
      "execution_count": 10,
      "outputs": []
    },
    {
      "cell_type": "code",
      "metadata": {
        "colab": {
          "base_uri": "https://localhost:8080/",
          "height": 281
        },
        "id": "BQD5jXfqgv_h",
        "outputId": "565b107c-1838-464f-9851-3c21f073c120"
      },
      "source": [
        "#Now to know the order of the Auto-regressive model, or total no. of lags to create the AR model, we will plot a PACF Plot\n",
        "#i.e. Partial auto-correlation plot!\n",
        "\n",
        "plot_pacf(X, lags=10);"
      ],
      "execution_count": 11,
      "outputs": [
        {
          "output_type": "display_data",
          "data": {
            "image/png": "[encoded data removed]",
            "text/plain": [
              "<Figure size 432x288 with 1 Axes>"
            ]
          },
          "metadata": {
            "tags": [],
            "needs_background": "light"
          }
        }
      ]
    },
    {
      "cell_type": "code",
      "metadata": {
        "id": "xbtlyTUF6P9g"
      },
      "source": [
        "#We can see that, Y(t) when compared with Y(t) has a correlation of 1,\n",
        "#Also, Y(t), compared with Y(t-1) is too good, but after Y(t-2),Y(t-3)... the data is not much co-related!\n",
        "#Hence, it indicates us to do analysis with \"Lag=1\"!!"
      ],
      "execution_count": 12,
      "outputs": []
    },
    {
      "cell_type": "code",
      "metadata": {
        "id": "U4vbDzWR7IVn"
      },
      "source": [
        "#Hence at this stage we only need to design our model for this particular equation:\n",
        "# Y(t) = @(Constant) + bY(t-1) + Random-Noise......ie. Lag = 1\n",
        "\n",
        "#Now, to calculate Alpha and Beta, we need to design a linear regression model!"
      ],
      "execution_count": 15,
      "outputs": []
    },
    {
      "cell_type": "code",
      "metadata": {
        "colab": {
          "base_uri": "https://localhost:8080/",
          "height": 204
        },
        "id": "elahKgPw71IZ",
        "outputId": "44ddf33c-7b4c-4f10-a900-ac6c598acc15"
      },
      "source": [
        "#In order to get Y(t-1), we will shift the rows downwards!\n",
        "\n",
        "df[\"Values_shifted\"]  = df[\"Value\"].shift()\n",
        "df.head()"
      ],
      "execution_count": 16,
      "outputs": [
        {
          "output_type": "execute_result",
          "data": {
            "text/html": [
              "<div>\n",
              "<style scoped>\n",
              "    .dataframe tbody tr th:only-of-type {\n",
              "        vertical-align: middle;\n",
              "    }\n",
              "\n",
              "    .dataframe tbody tr th {\n",
              "        vertical-align: top;\n",
              "    }\n",
              "\n",
              "    .dataframe thead th {\n",
              "        text-align: right;\n",
              "    }\n",
              "</style>\n",
              "<table border=\"1\" class=\"dataframe\">\n",
              "  <thead>\n",
              "    <tr style=\"text-align: right;\">\n",
              "      <th></th>\n",
              "      <th>Time</th>\n",
              "      <th>Value</th>\n",
              "      <th>Values_shifted</th>\n",
              "    </tr>\n",
              "  </thead>\n",
              "  <tbody>\n",
              "    <tr>\n",
              "      <th>0</th>\n",
              "      <td>1</td>\n",
              "      <td>0.000000</td>\n",
              "      <td>NaN</td>\n",
              "    </tr>\n",
              "    <tr>\n",
              "      <th>1</th>\n",
              "      <td>2</td>\n",
              "      <td>-0.090263</td>\n",
              "      <td>0.000000</td>\n",
              "    </tr>\n",
              "    <tr>\n",
              "      <th>2</th>\n",
              "      <td>3</td>\n",
              "      <td>0.749995</td>\n",
              "      <td>-0.090263</td>\n",
              "    </tr>\n",
              "    <tr>\n",
              "      <th>3</th>\n",
              "      <td>4</td>\n",
              "      <td>1.247887</td>\n",
              "      <td>0.749995</td>\n",
              "    </tr>\n",
              "    <tr>\n",
              "      <th>4</th>\n",
              "      <td>5</td>\n",
              "      <td>0.131282</td>\n",
              "      <td>1.247887</td>\n",
              "    </tr>\n",
              "  </tbody>\n",
              "</table>\n",
              "</div>"
            ],
            "text/plain": [
              "   Time     Value  Values_shifted\n",
              "0     1  0.000000             NaN\n",
              "1     2 -0.090263        0.000000\n",
              "2     3  0.749995       -0.090263\n",
              "3     4  1.247887        0.749995\n",
              "4     5  0.131282        1.247887"
            ]
          },
          "metadata": {
            "tags": []
          },
          "execution_count": 16
        }
      ]
    },
    {
      "cell_type": "code",
      "metadata": {
        "id": "hC8JSf1w8X4r"
      },
      "source": [
        "#Here, value is Y(t), and Value_shifted is Y(t-1).\n",
        "\n",
        "df.drop('Time', axis = 1, inplace=True)\n",
        "df.dropna(inplace=True)"
      ],
      "execution_count": 17,
      "outputs": []
    },
    {
      "cell_type": "code",
      "metadata": {
        "colab": {
          "base_uri": "https://localhost:8080/",
          "height": 359
        },
        "id": "WDpLY15A8lDP",
        "outputId": "97f8441f-000e-4928-909c-7a3447f11e1b"
      },
      "source": [
        "df.head(10)"
      ],
      "execution_count": 18,
      "outputs": [
        {
          "output_type": "execute_result",
          "data": {
            "text/html": [
              "<div>\n",
              "<style scoped>\n",
              "    .dataframe tbody tr th:only-of-type {\n",
              "        vertical-align: middle;\n",
              "    }\n",
              "\n",
              "    .dataframe tbody tr th {\n",
              "        vertical-align: top;\n",
              "    }\n",
              "\n",
              "    .dataframe thead th {\n",
              "        text-align: right;\n",
              "    }\n",
              "</style>\n",
              "<table border=\"1\" class=\"dataframe\">\n",
              "  <thead>\n",
              "    <tr style=\"text-align: right;\">\n",
              "      <th></th>\n",
              "      <th>Value</th>\n",
              "      <th>Values_shifted</th>\n",
              "    </tr>\n",
              "  </thead>\n",
              "  <tbody>\n",
              "    <tr>\n",
              "      <th>1</th>\n",
              "      <td>-0.090263</td>\n",
              "      <td>0.000000</td>\n",
              "    </tr>\n",
              "    <tr>\n",
              "      <th>2</th>\n",
              "      <td>0.749995</td>\n",
              "      <td>-0.090263</td>\n",
              "    </tr>\n",
              "    <tr>\n",
              "      <th>3</th>\n",
              "      <td>1.247887</td>\n",
              "      <td>0.749995</td>\n",
              "    </tr>\n",
              "    <tr>\n",
              "      <th>4</th>\n",
              "      <td>0.131282</td>\n",
              "      <td>1.247887</td>\n",
              "    </tr>\n",
              "    <tr>\n",
              "      <th>5</th>\n",
              "      <td>0.562619</td>\n",
              "      <td>0.131282</td>\n",
              "    </tr>\n",
              "    <tr>\n",
              "      <th>6</th>\n",
              "      <td>2.292577</td>\n",
              "      <td>0.562619</td>\n",
              "    </tr>\n",
              "    <tr>\n",
              "      <th>7</th>\n",
              "      <td>2.543161</td>\n",
              "      <td>2.292577</td>\n",
              "    </tr>\n",
              "    <tr>\n",
              "      <th>8</th>\n",
              "      <td>3.456542</td>\n",
              "      <td>2.543161</td>\n",
              "    </tr>\n",
              "    <tr>\n",
              "      <th>9</th>\n",
              "      <td>3.284080</td>\n",
              "      <td>3.456542</td>\n",
              "    </tr>\n",
              "    <tr>\n",
              "      <th>10</th>\n",
              "      <td>2.111860</td>\n",
              "      <td>3.284080</td>\n",
              "    </tr>\n",
              "  </tbody>\n",
              "</table>\n",
              "</div>"
            ],
            "text/plain": [
              "       Value  Values_shifted\n",
              "1  -0.090263        0.000000\n",
              "2   0.749995       -0.090263\n",
              "3   1.247887        0.749995\n",
              "4   0.131282        1.247887\n",
              "5   0.562619        0.131282\n",
              "6   2.292577        0.562619\n",
              "7   2.543161        2.292577\n",
              "8   3.456542        2.543161\n",
              "9   3.284080        3.456542\n",
              "10  2.111860        3.284080"
            ]
          },
          "metadata": {
            "tags": []
          },
          "execution_count": 18
        }
      ]
    },
    {
      "cell_type": "code",
      "metadata": {
        "id": "jMM-3cNJ8mSp"
      },
      "source": [
        "#We will split the data as X and y, for using them in Linear regression model!\n",
        "y = df.Value.values\n",
        "X = df.Values_shifted.values"
      ],
      "execution_count": 19,
      "outputs": []
    },
    {
      "cell_type": "code",
      "metadata": {
        "id": "lohGCD9Q831Z"
      },
      "source": [
        "train_size = int(len(X) * 0.80)\n",
        "\n",
        "\n",
        "X_train, X_test = X[0:train_size], X[train_size:len(X)]\n",
        "y_train, y_test = y[0:train_size], y[train_size:len(X)]"
      ],
      "execution_count": 20,
      "outputs": []
    },
    {
      "cell_type": "code",
      "metadata": {
        "id": "tH1tJv1m9Iw6"
      },
      "source": [
        "#We can't random split the data for time-series data, since we need the continuous values to be forecasted!"
      ],
      "execution_count": 21,
      "outputs": []
    },
    {
      "cell_type": "code",
      "metadata": {
        "id": "JUKPBSW09SKT"
      },
      "source": [
        "#Since our train,test data have 1-dimension, which can lead to error, reason we are reshaping the data as 2-dimensions!\n",
        "X_train = X_train.reshape(-1,1)\n",
        "X_test = X_test.reshape(-1,1)"
      ],
      "execution_count": 22,
      "outputs": []
    },
    {
      "cell_type": "code",
      "metadata": {
        "colab": {
          "base_uri": "https://localhost:8080/"
        },
        "id": "7hAUtheH9pNm",
        "outputId": "a07f0c85-9139-43b8-c5ad-9a9ffabfaac7"
      },
      "source": [
        "#Initializing the model!\n",
        "lr = LinearRegression()\n",
        "lr.fit(X_train, y_train)"
      ],
      "execution_count": 23,
      "outputs": [
        {
          "output_type": "execute_result",
          "data": {
            "text/plain": [
              "LinearRegression(copy_X=True, fit_intercept=True, n_jobs=None, normalize=False)"
            ]
          },
          "metadata": {
            "tags": []
          },
          "execution_count": 23
        }
      ]
    },
    {
      "cell_type": "code",
      "metadata": {
        "colab": {
          "base_uri": "https://localhost:8080/"
        },
        "id": "hFkhT0B59ver",
        "outputId": "79d94599-fa3d-45b6-be62-d752e233e892"
      },
      "source": [
        "print(lr.coef_)\n",
        "print(lr.intercept_)"
      ],
      "execution_count": 24,
      "outputs": [
        {
          "output_type": "stream",
          "text": [
            "[0.90550879]\n",
            "0.06868111625452289\n"
          ],
          "name": "stdout"
        }
      ]
    },
    {
      "cell_type": "code",
      "metadata": {
        "id": "gQJtN6I_92la"
      },
      "source": [
        "#Hence, we are successful in finding alpha(constant) and beta value!\n",
        "#Now we will find some predictions to see whether our model works good or not!"
      ],
      "execution_count": 25,
      "outputs": []
    },
    {
      "cell_type": "code",
      "metadata": {
        "id": "7VkaENbC-IJI"
      },
      "source": [
        "y_pred = lr.predict(X_test)"
      ],
      "execution_count": 26,
      "outputs": []
    },
    {
      "cell_type": "code",
      "metadata": {
        "colab": {
          "base_uri": "https://localhost:8080/",
          "height": 265
        },
        "id": "RbRN3yg_-J5K",
        "outputId": "43fe7dbf-5a1b-4339-8ed3-0f1483bb7bd6"
      },
      "source": [
        "plt.plot(y_test[-10:], label=\"Actual Values\")\n",
        "plt.plot(y_pred[-10:], label=\"Predicted Values\")\n",
        "plt.legend()\n",
        "plt.show()"
      ],
      "execution_count": 27,
      "outputs": [
        {
          "output_type": "display_data",
          "data": {
            "image/png": "[encoded data removed]",
            "text/plain": [
              "<Figure size 432x288 with 1 Axes>"
            ]
          },
          "metadata": {
            "tags": [],
            "needs_background": "light"
          }
        }
      ]
    },
    {
      "cell_type": "code",
      "metadata": {
        "id": "14-yfTAZ-L3S"
      },
      "source": [
        "#We can see that our model has fitted decent on the patterns!"
      ],
      "execution_count": 28,
      "outputs": []
    },
    {
      "cell_type": "code",
      "metadata": {
        "id": "p6Mu2KEq-bBl"
      },
      "source": [
        "#Lets now implement our AR model using ARIMA Package!\n",
        "#I.e. We are initializing AR Model using ARIMA Package.\n",
        "model = ARIMA(y_train, order=(1,0,0))\n",
        "\n",
        "#Considering the order, we have mentioned the value for AR Term= \"1\",\n",
        "#While for \"I\" and \"MA\" Term we have mentioned \"0\"."
      ],
      "execution_count": 31,
      "outputs": []
    },
    {
      "cell_type": "code",
      "metadata": {
        "id": "E6SWBho1-q1z"
      },
      "source": [
        "#Here, we fit our model!\n",
        "model_fit = model.fit()"
      ],
      "execution_count": 32,
      "outputs": []
    },
    {
      "cell_type": "code",
      "metadata": {
        "colab": {
          "base_uri": "https://localhost:8080/"
        },
        "id": "wuxFYUiB_fIi",
        "outputId": "48806619-828e-4882-f817-ca631490a393"
      },
      "source": [
        "#Printing our the model summary!\n",
        "print(model_fit.summary())"
      ],
      "execution_count": 33,
      "outputs": [
        {
          "output_type": "stream",
          "text": [
            "                              ARMA Model Results                              \n",
            "==============================================================================\n",
            "Dep. Variable:                      y   No. Observations:                 7999\n",
            "Model:                     ARMA(1, 0)   Log Likelihood              -11364.832\n",
            "Method:                       css-mle   S.D. of innovations              1.002\n",
            "Date:                Fri, 20 Nov 2020   AIC                          22735.663\n",
            "Time:                        09:31:19   BIC                          22756.624\n",
            "Sample:                             0   HQIC                         22742.838\n",
            "                                                                              \n",
            "==============================================================================\n",
            "                 coef    std err          z      P>|z|      [0.025      0.975]\n",
            "------------------------------------------------------------------------------\n",
            "const          0.7250      0.118      6.130      0.000       0.493       0.957\n",
            "ar.L1.y        0.9054      0.005    190.940      0.000       0.896       0.915\n",
            "                                    Roots                                    \n",
            "=============================================================================\n",
            "                  Real          Imaginary           Modulus         Frequency\n",
            "-----------------------------------------------------------------------------\n",
            "AR.1            1.1045           +0.0000j            1.1045            0.0000\n",
            "-----------------------------------------------------------------------------\n"
          ],
          "name": "stdout"
        }
      ]
    },
    {
      "cell_type": "code",
      "metadata": {
        "id": "_RR94yjC_mJ2"
      },
      "source": [
        ""
      ],
      "execution_count": null,
      "outputs": []
    }
  ]
}